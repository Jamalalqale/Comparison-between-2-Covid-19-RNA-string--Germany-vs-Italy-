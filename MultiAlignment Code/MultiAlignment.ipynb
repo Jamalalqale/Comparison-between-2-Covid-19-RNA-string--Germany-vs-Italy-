{
 "cells": [
  {
   "cell_type": "code",
   "execution_count": 1,
   "metadata": {},
   "outputs": [],
   "source": [
    "from Bio import SeqIO\n",
    "from Bio import pairwise2\n",
    "from Bio.pairwise2 import format_alignment\n",
    "import sys\n",
    "from Bio import AlignIO\n",
    "from Bio.Align import AlignInfo\n",
    "import numpy as np\n",
    "import matplotlib.pyplot as plt\n",
    "import os\n",
    "from Bio.Align.Applications import ClustalwCommandline\n",
    "import operator\n",
    "from Bio import Phylo\n",
    "clustalw_exe = r\"C:\\clustal-omega-1.2.2-win64\\clustalo.exe\""
   ]
  },
  {
   "cell_type": "markdown",
   "metadata": {},
   "source": [
    "## Italian"
   ]
  },
  {
   "cell_type": "code",
   "execution_count": null,
   "metadata": {},
   "outputs": [],
   "source": [
    "# Create a Multialignment \n",
    "clustalw_cline = ClustalwCommandline(clustalw_exe, infile=\"Sequences files/13 italians.fasta\")\n",
    "stdout, stderr = clustalw_cline()\n",
    "\n",
    "# Redigne Multialignmet file that we've generated\n",
    "MultiAlignment = AlignIO.read(\"Sequences files/13 italians.aln\", \"clustal\")\n",
    "\n",
    "print(\"Alignment length %i\" % MultiAlignment.get_alignment_length())\n",
    "print(\"Samples\",np.size(MultiAlignment,0)-1,)\n",
    "print(\"\\n\")\n",
    "for record in MultiAlignment:\n",
    "    print(\"%s - %s\" % (record.seq, record.id))"
   ]
  },
  {
   "cell_type": "markdown",
   "metadata": {},
   "source": [
    "## German"
   ]
  },
  {
   "cell_type": "code",
   "execution_count": null,
   "metadata": {},
   "outputs": [],
   "source": [
    "# Create a Multialignment \n",
    "clustalw_cline = ClustalwCommandline(clustalw_exe, infile=\"Sequences files/77 German.fasta\")\n",
    "stdout, stderr = clustalw_cline()\n",
    "\n",
    "# Redigne Multialignmet file that we've generated\n",
    "MultiAlignment = AlignIO.read(\"Sequences files/77 German.aln\", \"clustal\")\n",
    "\n",
    "print(\"Alignment length %i\" % MultiAlignment.get_alignment_length())\n",
    "print(\"Samples\",np.size(MultiAlignment,0)-1,)\n",
    "print(\"\\n\")\n",
    "for record in MultiAlignment:\n",
    "    print(\"%s - %s\" % (record.seq, record.id))\n"
   ]
  },
  {
   "cell_type": "markdown",
   "metadata": {},
   "source": [
    "## German with chinese"
   ]
  },
  {
   "cell_type": "code",
   "execution_count": null,
   "metadata": {},
   "outputs": [],
   "source": [
    "# Create a Multialignment \n",
    "clustalw_cline = ClustalwCommandline(clustalw_exe, infile=\"Sequences files/77 German with Chinese.fasta\")\n",
    "stdout, stderr = clustalw_cline()\n",
    "\n",
    "# Redigne Multialignmet file that we've generated\n",
    "MultiAlignment = AlignIO.read(\"Sequences files/77 German with Chinese.aln\", \"clustal\")\n",
    "\n",
    "print(\"Alignment length %i\" % MultiAlignment.get_alignment_length())\n",
    "print(\"Samples\",np.size(MultiAlignment,0)-1,)\n",
    "print(\"\\n\")\n",
    "for record in MultiAlignment:\n",
    "    print(\"%s - %s\" % (record.seq, record.id))"
   ]
  },
  {
   "cell_type": "markdown",
   "metadata": {},
   "source": [
    "## Italian with chinese"
   ]
  },
  {
   "cell_type": "code",
   "execution_count": null,
   "metadata": {},
   "outputs": [],
   "source": [
    "# Create a Multialignment \n",
    "clustalw_cline = ClustalwCommandline(clustalw_exe, infile=\"Sequences files/13 Italians with Chines.fasta\")\n",
    "stdout, stderr = clustalw_cline()\n",
    "\n",
    "# Redigne Multialignmet file that we've generated\n",
    "MultiAlignment = AlignIO.read(\"Sequences files/13 Italians with Chines.aln\", \"clustal\")\n",
    "\n",
    "print(\"Alignment length %i\" % MultiAlignment.get_alignment_length())\n",
    "print(\"Samples\",np.size(MultiAlignment,0)-1,)\n",
    "print(\"\\n\")\n",
    "for record in MultiAlignment:\n",
    "    print(\"%s - %s\" % (record.seq, record.id))"
   ]
  },
  {
   "cell_type": "markdown",
   "metadata": {},
   "source": [
    "## Italian & German"
   ]
  },
  {
   "cell_type": "code",
   "execution_count": null,
   "metadata": {},
   "outputs": [],
   "source": [
    "# Create a Multialignment \n",
    "clustalw_cline = ClustalwCommandline(clustalw_exe, infile=\"Sequences files/Italian & German.fasta\")\n",
    "stdout, stderr = clustalw_cline()\n",
    "\n",
    "# Redigne Multialignmet file that we've generated\n",
    "MultiAlignment = AlignIO.read(\"Sequences files/Italian & German.aln\", \"clustal\")\n",
    "\n",
    "print(\"Alignment length %i\" % MultiAlignment.get_alignment_length())\n",
    "print(\"Samples\",np.size(MultiAlignment,0)-1,)\n",
    "print(\"\\n\")\n",
    "for record in MultiAlignment:\n",
    "    print(\"%s - %s\" % (record.seq, record.id))"
   ]
  },
  {
   "cell_type": "markdown",
   "metadata": {},
   "source": [
    "## Italian & German with chinese"
   ]
  },
  {
   "cell_type": "code",
   "execution_count": null,
   "metadata": {},
   "outputs": [],
   "source": [
    "# Create a Multialignment \n",
    "clustalw_cline = ClustalwCommandline(clustalw_exe, infile=\"Sequences files/Italian & German with chinese.fasta\")\n",
    "stdout, stderr = clustalw_cline()\n",
    "\n",
    "# Redigne Multialignmet file that we've generated\n",
    "MultiAlignment = AlignIO.read(\"Sequences files/Italian & German with chinese.aln\", \"clustal\")\n",
    "\n",
    "print(\"Alignment length %i\" % MultiAlignment.get_alignment_length())\n",
    "print(\"Samples\",np.size(MultiAlignment,0)-1,)\n",
    "print(\"\\n\")\n",
    "for record in MultiAlignment:\n",
    "    print(\"%s - %s\" % (record.seq, record.id))"
   ]
  },
  {
   "cell_type": "code",
   "execution_count": null,
   "metadata": {},
   "outputs": [],
   "source": []
  }
 ],
 "metadata": {
  "kernelspec": {
   "display_name": "Python 3",
   "language": "python",
   "name": "python3"
  },
  "language_info": {
   "codemirror_mode": {
    "name": "ipython",
    "version": 3
   },
   "file_extension": ".py",
   "mimetype": "text/x-python",
   "name": "python",
   "nbconvert_exporter": "python",
   "pygments_lexer": "ipython3",
   "version": "3.8.5"
  }
 },
 "nbformat": 4,
 "nbformat_minor": 2
}
